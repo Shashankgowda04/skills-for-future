{
 "cells": [
  {
   "cell_type": "code",
   "execution_count": 1,
   "id": "b02adc15",
   "metadata": {},
   "outputs": [
    {
     "name": "stdout",
     "output_type": "stream",
     "text": [
      "carbon Footprint: 475.0 kg CO2\n"
     ]
    }
   ],
   "source": [
    "def calculate_carbon_footprint(energy_consumption,emission_factor):\n",
    "    return energy_consumption * emission_factor\n",
    "energy_consumption = 1000\n",
    "emission_factor = 0.475\n",
    "footprint =calculate_carbon_footprint(energy_consumption,emission_factor)\n",
    "print(\"carbon Footprint:\",footprint,\"kg CO2\")"
   ]
  },
  {
   "cell_type": "code",
   "execution_count": 2,
   "id": "dbf1ec55",
   "metadata": {},
   "outputs": [
    {
     "name": "stdout",
     "output_type": "stream",
     "text": [
      "Sustainable cities:\n",
      "- city B\n",
      "- city D\n"
     ]
    }
   ],
   "source": [
    "cities=[\n",
    "    {\"name\":\"city A\",\"carbon_footprint\":500},\n",
    "    {\"name\":\"city B\",\"carbon_footprint\":350},\n",
    "    {\"name\":\"city C\",\"carbon_footprint\":600},\n",
    "    {\"name\":\"city D\",\"carbon_footprint\":200}\n",
    "]\n",
    "sustainability_threshold=400\n",
    "sustainable_cities=list(filter(lambda city: city[\"carbon_footprint\"]< sustainability_threshold,cities))\n",
    "print(\"Sustainable cities:\")\n",
    "for city in sustainable_cities:\n",
    "    print(\"-\",city[\"name\"])\n"
   ]
  },
  {
   "cell_type": "code",
   "execution_count": 5,
   "id": "d1856cad",
   "metadata": {},
   "outputs": [],
   "source": [
    "class Person:\n",
    "    def __init__(self,name,age):\n",
    "        self.name=name\n",
    "        self.age=age"
   ]
  },
  {
   "cell_type": "code",
   "execution_count": 6,
   "id": "3a2b7faa",
   "metadata": {},
   "outputs": [],
   "source": [
    "person=Person(\"Bharat\",10000)"
   ]
  },
  {
   "cell_type": "code",
   "execution_count": 7,
   "id": "fbc1f726",
   "metadata": {},
   "outputs": [
    {
     "data": {
      "text/plain": [
       "'Bharat'"
      ]
     },
     "execution_count": 7,
     "metadata": {},
     "output_type": "execute_result"
    }
   ],
   "source": [
    "person.name"
   ]
  },
  {
   "cell_type": "code",
   "execution_count": 9,
   "id": "c5e829bb",
   "metadata": {},
   "outputs": [],
   "source": [
    "class Car:\n",
    "    wheels=4\n",
    "    def __init__(self,make,year):\n",
    "        self.make=make\n",
    "        self.year=year\n",
    "        \n",
    "    def start_engine(self):\n",
    "        print(\"Engine started\")\n",
    "    \n",
    "    @classmethod # class Method\n",
    "    def get_wheels(cls):\n",
    "        return cls.wheels\n",
    "    \n",
    "    @staticmethod\n",
    "    def is_motor_vehicle():\n",
    "        return True"
   ]
  },
  {
   "cell_type": "code",
   "execution_count": 11,
   "id": "5354008a",
   "metadata": {},
   "outputs": [
    {
     "name": "stdout",
     "output_type": "stream",
     "text": [
      "Toyota\n",
      "2022\n"
     ]
    }
   ],
   "source": [
    "car= Car(\"Toyota\",2022)\n",
    "print(car.make)\n",
    "print(car.year)"
   ]
  },
  {
   "cell_type": "code",
   "execution_count": 12,
   "id": "78b597db",
   "metadata": {},
   "outputs": [
    {
     "name": "stdout",
     "output_type": "stream",
     "text": [
      "Engine started\n"
     ]
    }
   ],
   "source": [
    "car.start_engine()"
   ]
  },
  {
   "cell_type": "code",
   "execution_count": 15,
   "id": "ab7289fc",
   "metadata": {},
   "outputs": [
    {
     "data": {
      "text/plain": [
       "4"
      ]
     },
     "execution_count": 15,
     "metadata": {},
     "output_type": "execute_result"
    }
   ],
   "source": [
    "car.get_wheels()"
   ]
  },
  {
   "cell_type": "code",
   "execution_count": 16,
   "id": "f9ef72be",
   "metadata": {},
   "outputs": [
    {
     "data": {
      "text/plain": [
       "True"
      ]
     },
     "execution_count": 16,
     "metadata": {},
     "output_type": "execute_result"
    }
   ],
   "source": [
    "car.is_motor_vehicle()"
   ]
  },
  {
   "cell_type": "code",
   "execution_count": 24,
   "id": "6a8b4646",
   "metadata": {},
   "outputs": [],
   "source": [
    "class Person:\n",
    "    def __init__(self,name,age):\n",
    "        self._name=name\n",
    "        self._age=age\n",
    "        \n",
    "    def get_name(self):\n",
    "        return self._name\n",
    "        \n"
   ]
  },
  {
   "cell_type": "code",
   "execution_count": 25,
   "id": "47b3c665",
   "metadata": {},
   "outputs": [],
   "source": [
    "person = Person(\"MIT\",15)"
   ]
  },
  {
   "cell_type": "code",
   "execution_count": 26,
   "id": "c5dd5203",
   "metadata": {},
   "outputs": [
    {
     "data": {
      "text/plain": [
       "'MIT'"
      ]
     },
     "execution_count": 26,
     "metadata": {},
     "output_type": "execute_result"
    }
   ],
   "source": [
    "person._name"
   ]
  },
  {
   "cell_type": "code",
   "execution_count": 27,
   "id": "6e31aeae",
   "metadata": {},
   "outputs": [
    {
     "data": {
      "text/plain": [
       "15"
      ]
     },
     "execution_count": 27,
     "metadata": {},
     "output_type": "execute_result"
    }
   ],
   "source": [
    "person._age"
   ]
  },
  {
   "cell_type": "code",
   "execution_count": 29,
   "id": "78ad8a07",
   "metadata": {},
   "outputs": [
    {
     "data": {
      "text/plain": [
       "'raghu'"
      ]
     },
     "execution_count": 29,
     "metadata": {},
     "output_type": "execute_result"
    }
   ],
   "source": [
    "person=Person(\"raghu\",21)\n",
    "person.get_name()"
   ]
  },
  {
   "cell_type": "code",
   "execution_count": 54,
   "id": "409d83e8",
   "metadata": {},
   "outputs": [],
   "source": [
    "# inheritence\n",
    "class vehicle:\n",
    "    def __init__(self,brand,model):\n",
    "        self.brand=brand\n",
    "        self.model=model\n",
    "        \n",
    "    def display_info(self):\n",
    "        return f\"{self.brand},{self.model}\"\n",
    "    \n",
    "class Car(vehicle):\n",
    "    def __init__(self,brand,model, doors):\n",
    "        super().__init__(brand,model)\n",
    "        self.doors=doors\n",
    "        \n",
    "    def display_info(self):\n",
    "        return f\"{self.brand} {self.model}{self.doors}\"\n",
    "        \n",
    "    \n"
   ]
  },
  {
   "cell_type": "code",
   "execution_count": 55,
   "id": "96042385",
   "metadata": {},
   "outputs": [],
   "source": [
    "my_car=Car('Maruthi','suzuki',7)"
   ]
  },
  {
   "cell_type": "code",
   "execution_count": 56,
   "id": "9789c442",
   "metadata": {},
   "outputs": [
    {
     "data": {
      "text/plain": [
       "'Maruthi suzuki7'"
      ]
     },
     "execution_count": 56,
     "metadata": {},
     "output_type": "execute_result"
    }
   ],
   "source": [
    "my_car.display_info()"
   ]
  },
  {
   "cell_type": "code",
   "execution_count": 57,
   "id": "84c09c10",
   "metadata": {},
   "outputs": [],
   "source": [
    "class Animal:\n",
    "    def make_sound(self):\n",
    "        print(\"Animal make sound!\")\n",
    "        \n",
    "class Dog(Animal):\n",
    "    def make_sound(self):\n",
    "        print(\"bark!!\")"
   ]
  },
  {
   "cell_type": "code",
   "execution_count": 58,
   "id": "28b07d9a",
   "metadata": {},
   "outputs": [],
   "source": [
    "dog1=Dog()"
   ]
  },
  {
   "cell_type": "code",
   "execution_count": 59,
   "id": "75164592",
   "metadata": {},
   "outputs": [
    {
     "name": "stdout",
     "output_type": "stream",
     "text": [
      "bark!!\n"
     ]
    }
   ],
   "source": [
    "dog1.make_sound()"
   ]
  },
  {
   "cell_type": "code",
   "execution_count": 61,
   "id": "805461ca",
   "metadata": {},
   "outputs": [],
   "source": [
    "class Examples:\n",
    "    def sum(self, *args):\n",
    "        return sum(args)"
   ]
  },
  {
   "cell_type": "code",
   "execution_count": 63,
   "id": "73bb1ff5",
   "metadata": {},
   "outputs": [],
   "source": [
    "e=Examples()"
   ]
  },
  {
   "cell_type": "code",
   "execution_count": 64,
   "id": "d361e6e1",
   "metadata": {},
   "outputs": [
    {
     "data": {
      "text/plain": [
       "16"
      ]
     },
     "execution_count": 64,
     "metadata": {},
     "output_type": "execute_result"
    }
   ],
   "source": [
    "e.sum(1,2,4,9)"
   ]
  },
  {
   "cell_type": "code",
   "execution_count": 68,
   "id": "5c5840b0",
   "metadata": {},
   "outputs": [],
   "source": [
    "import pandas as pd\n",
    "a=pd.Series([0,1,2,3,4])"
   ]
  },
  {
   "cell_type": "code",
   "execution_count": 70,
   "id": "8aa81598",
   "metadata": {},
   "outputs": [
    {
     "data": {
      "text/plain": [
       "0    0\n",
       "1    1\n",
       "2    2\n",
       "3    3\n",
       "4    4\n",
       "dtype: int64"
      ]
     },
     "execution_count": 70,
     "metadata": {},
     "output_type": "execute_result"
    }
   ],
   "source": [
    "a"
   ]
  },
  {
   "cell_type": "code",
   "execution_count": 71,
   "id": "02ce716b",
   "metadata": {},
   "outputs": [],
   "source": [
    "z=pd.DataFrame({'S':[5,6,7],'B':[4,5,6]})"
   ]
  },
  {
   "cell_type": "code",
   "execution_count": 72,
   "id": "68f0427b",
   "metadata": {},
   "outputs": [
    {
     "data": {
      "text/html": [
       "<div>\n",
       "<style scoped>\n",
       "    .dataframe tbody tr th:only-of-type {\n",
       "        vertical-align: middle;\n",
       "    }\n",
       "\n",
       "    .dataframe tbody tr th {\n",
       "        vertical-align: top;\n",
       "    }\n",
       "\n",
       "    .dataframe thead th {\n",
       "        text-align: right;\n",
       "    }\n",
       "</style>\n",
       "<table border=\"1\" class=\"dataframe\">\n",
       "  <thead>\n",
       "    <tr style=\"text-align: right;\">\n",
       "      <th></th>\n",
       "      <th>S</th>\n",
       "      <th>B</th>\n",
       "    </tr>\n",
       "  </thead>\n",
       "  <tbody>\n",
       "    <tr>\n",
       "      <th>0</th>\n",
       "      <td>5</td>\n",
       "      <td>4</td>\n",
       "    </tr>\n",
       "    <tr>\n",
       "      <th>1</th>\n",
       "      <td>6</td>\n",
       "      <td>5</td>\n",
       "    </tr>\n",
       "    <tr>\n",
       "      <th>2</th>\n",
       "      <td>7</td>\n",
       "      <td>6</td>\n",
       "    </tr>\n",
       "  </tbody>\n",
       "</table>\n",
       "</div>"
      ],
      "text/plain": [
       "   S  B\n",
       "0  5  4\n",
       "1  6  5\n",
       "2  7  6"
      ]
     },
     "execution_count": 72,
     "metadata": {},
     "output_type": "execute_result"
    }
   ],
   "source": [
    "z"
   ]
  },
  {
   "cell_type": "code",
   "execution_count": 73,
   "id": "daae0ac2",
   "metadata": {},
   "outputs": [
    {
     "name": "stdout",
     "output_type": "stream",
     "text": [
      "[[ 3  4  5]\n",
      " [ 7  8  9]\n",
      " [10 11 12]]\n"
     ]
    }
   ],
   "source": [
    "import numpy as np\n",
    "thd_array=np.array([[3,4,5],[7,8,9],[10,11,12]])\n",
    "print(thd_array)"
   ]
  },
  {
   "cell_type": "code",
   "execution_count": 1,
   "id": "c7891210",
   "metadata": {},
   "outputs": [
    {
     "data": {
      "text/plain": [
       "0         solar\n",
       "1          wind\n",
       "2         hydro\n",
       "3    geothermal\n",
       "4         tidal\n",
       "dtype: object"
      ]
     },
     "execution_count": 1,
     "metadata": {},
     "output_type": "execute_result"
    }
   ],
   "source": [
    "import pandas as pd\n",
    "renewable_sources=['solar','wind','hydro','geothermal','tidal']\n",
    "rs=pd.Series(renewable_sources)\n",
    "rs"
   ]
  },
  {
   "cell_type": "code",
   "execution_count": 6,
   "id": "3cba91d3",
   "metadata": {},
   "outputs": [],
   "source": [
    "#dataFrame\n",
    "data={\n",
    "    'Project':['solar Farm','wind turbine','hydro plant','geothermal station','tidal plant'],\n",
    "    'Technology':['solar','Wind','hydro','Geothermal','Tidal'],\n",
    "    'Capacity[%]':[150,300,200,600,700],\n",
    "    'Cost (million)':[200,400,600,900,250],\n",
    "    'Location':['North America','Europe','Asia','china','Russia'],\n",
    "    'YOC':[2023,2022,2021,2010,2009]\n",
    "                  \n",
    "}"
   ]
  },
  {
   "cell_type": "code",
   "execution_count": 7,
   "id": "8aa0659e",
   "metadata": {},
   "outputs": [
    {
     "data": {
      "text/html": [
       "<div>\n",
       "<style scoped>\n",
       "    .dataframe tbody tr th:only-of-type {\n",
       "        vertical-align: middle;\n",
       "    }\n",
       "\n",
       "    .dataframe tbody tr th {\n",
       "        vertical-align: top;\n",
       "    }\n",
       "\n",
       "    .dataframe thead th {\n",
       "        text-align: right;\n",
       "    }\n",
       "</style>\n",
       "<table border=\"1\" class=\"dataframe\">\n",
       "  <thead>\n",
       "    <tr style=\"text-align: right;\">\n",
       "      <th></th>\n",
       "      <th>Project</th>\n",
       "      <th>Technology</th>\n",
       "      <th>Capacity[%]</th>\n",
       "      <th>Cost (million)</th>\n",
       "      <th>Location</th>\n",
       "      <th>YOC</th>\n",
       "    </tr>\n",
       "  </thead>\n",
       "  <tbody>\n",
       "    <tr>\n",
       "      <th>0</th>\n",
       "      <td>solar Farm</td>\n",
       "      <td>solar</td>\n",
       "      <td>150</td>\n",
       "      <td>200</td>\n",
       "      <td>North America</td>\n",
       "      <td>2023</td>\n",
       "    </tr>\n",
       "    <tr>\n",
       "      <th>1</th>\n",
       "      <td>wind turbine</td>\n",
       "      <td>Wind</td>\n",
       "      <td>300</td>\n",
       "      <td>400</td>\n",
       "      <td>Europe</td>\n",
       "      <td>2022</td>\n",
       "    </tr>\n",
       "    <tr>\n",
       "      <th>2</th>\n",
       "      <td>hydro plant</td>\n",
       "      <td>hydro</td>\n",
       "      <td>200</td>\n",
       "      <td>600</td>\n",
       "      <td>Asia</td>\n",
       "      <td>2021</td>\n",
       "    </tr>\n",
       "    <tr>\n",
       "      <th>3</th>\n",
       "      <td>geothermal station</td>\n",
       "      <td>Geothermal</td>\n",
       "      <td>600</td>\n",
       "      <td>900</td>\n",
       "      <td>china</td>\n",
       "      <td>2010</td>\n",
       "    </tr>\n",
       "    <tr>\n",
       "      <th>4</th>\n",
       "      <td>tidal plant</td>\n",
       "      <td>Tidal</td>\n",
       "      <td>700</td>\n",
       "      <td>250</td>\n",
       "      <td>Russia</td>\n",
       "      <td>2009</td>\n",
       "    </tr>\n",
       "  </tbody>\n",
       "</table>\n",
       "</div>"
      ],
      "text/plain": [
       "              Project  Technology  Capacity[%]  Cost (million)       Location  \\\n",
       "0          solar Farm       solar          150             200  North America   \n",
       "1        wind turbine        Wind          300             400         Europe   \n",
       "2         hydro plant       hydro          200             600           Asia   \n",
       "3  geothermal station  Geothermal          600             900          china   \n",
       "4         tidal plant       Tidal          700             250         Russia   \n",
       "\n",
       "    YOC  \n",
       "0  2023  \n",
       "1  2022  \n",
       "2  2021  \n",
       "3  2010  \n",
       "4  2009  "
      ]
     },
     "execution_count": 7,
     "metadata": {},
     "output_type": "execute_result"
    }
   ],
   "source": [
    "df=pd.DataFrame(data)\n",
    "df"
   ]
  },
  {
   "cell_type": "code",
   "execution_count": 9,
   "id": "9cb5b354",
   "metadata": {},
   "outputs": [
    {
     "data": {
      "text/plain": [
       "0         solar\n",
       "1          Wind\n",
       "2         hydro\n",
       "3    Geothermal\n",
       "4         Tidal\n",
       "Name: Technology, dtype: object"
      ]
     },
     "execution_count": 9,
     "metadata": {},
     "output_type": "execute_result"
    }
   ],
   "source": [
    "df['Technology']"
   ]
  },
  {
   "cell_type": "code",
   "execution_count": 19,
   "id": "88705915",
   "metadata": {},
   "outputs": [
    {
     "name": "stdout",
     "output_type": "stream",
     "text": [
      "high capacity projects are: \n",
      "               Project  Technology  Capacity[%]  Cost (million) Location   YOC\n",
      "1        wind turbine        Wind          300             400   Europe  2022\n",
      "2         hydro plant       hydro          200             600     Asia  2021\n",
      "3  geothermal station  Geothermal          600             900    china  2010\n",
      "4         tidal plant       Tidal          700             250   Russia  2009\n"
     ]
    }
   ],
   "source": [
    "high_capacity=df['Capacity[%]']>150\n",
    "print(f\"high capacity projects are: \\n {df[high_capacity]}\")"
   ]
  },
  {
   "cell_type": "code",
   "execution_count": 20,
   "id": "0ff04fb7",
   "metadata": {},
   "outputs": [
    {
     "name": "stdout",
     "output_type": "stream",
     "text": [
      "high cost projects are: \n",
      "               Project  Technology  Capacity[%]  Cost (million) Location   YOC\n",
      "1        wind turbine        Wind          300             400   Europe  2022\n",
      "2         hydro plant       hydro          200             600     Asia  2021\n",
      "3  geothermal station  Geothermal          600             900    china  2010\n",
      "4         tidal plant       Tidal          700             250   Russia  2009\n"
     ]
    }
   ],
   "source": [
    "high_cost=df['Cost (million)']>200\n",
    "print(f\"high cost projects are: \\n {df[high_cost]}\")"
   ]
  },
  {
   "cell_type": "code",
   "execution_count": 28,
   "id": "9d905362",
   "metadata": {},
   "outputs": [
    {
     "data": {
      "text/html": [
       "<div>\n",
       "<style scoped>\n",
       "    .dataframe tbody tr th:only-of-type {\n",
       "        vertical-align: middle;\n",
       "    }\n",
       "\n",
       "    .dataframe tbody tr th {\n",
       "        vertical-align: top;\n",
       "    }\n",
       "\n",
       "    .dataframe thead th {\n",
       "        text-align: right;\n",
       "    }\n",
       "</style>\n",
       "<table border=\"1\" class=\"dataframe\">\n",
       "  <thead>\n",
       "    <tr style=\"text-align: right;\">\n",
       "      <th></th>\n",
       "      <th>Project</th>\n",
       "      <th>Technology</th>\n",
       "      <th>Capacity[%]</th>\n",
       "      <th>Cost (million)</th>\n",
       "      <th>Location</th>\n",
       "      <th>YOC</th>\n",
       "      <th>cost per MW</th>\n",
       "    </tr>\n",
       "  </thead>\n",
       "  <tbody>\n",
       "    <tr>\n",
       "      <th>0</th>\n",
       "      <td>solar Farm</td>\n",
       "      <td>solar</td>\n",
       "      <td>150</td>\n",
       "      <td>200</td>\n",
       "      <td>North America</td>\n",
       "      <td>2023</td>\n",
       "      <td>1.333333</td>\n",
       "    </tr>\n",
       "    <tr>\n",
       "      <th>1</th>\n",
       "      <td>wind turbine</td>\n",
       "      <td>Wind</td>\n",
       "      <td>300</td>\n",
       "      <td>400</td>\n",
       "      <td>Europe</td>\n",
       "      <td>2022</td>\n",
       "      <td>1.333333</td>\n",
       "    </tr>\n",
       "    <tr>\n",
       "      <th>2</th>\n",
       "      <td>hydro plant</td>\n",
       "      <td>hydro</td>\n",
       "      <td>200</td>\n",
       "      <td>600</td>\n",
       "      <td>Asia</td>\n",
       "      <td>2021</td>\n",
       "      <td>3.000000</td>\n",
       "    </tr>\n",
       "    <tr>\n",
       "      <th>3</th>\n",
       "      <td>geothermal station</td>\n",
       "      <td>Geothermal</td>\n",
       "      <td>600</td>\n",
       "      <td>900</td>\n",
       "      <td>china</td>\n",
       "      <td>2010</td>\n",
       "      <td>1.500000</td>\n",
       "    </tr>\n",
       "    <tr>\n",
       "      <th>4</th>\n",
       "      <td>tidal plant</td>\n",
       "      <td>Tidal</td>\n",
       "      <td>700</td>\n",
       "      <td>250</td>\n",
       "      <td>Russia</td>\n",
       "      <td>2009</td>\n",
       "      <td>0.357143</td>\n",
       "    </tr>\n",
       "  </tbody>\n",
       "</table>\n",
       "</div>"
      ],
      "text/plain": [
       "              Project  Technology  Capacity[%]  Cost (million)       Location  \\\n",
       "0          solar Farm       solar          150             200  North America   \n",
       "1        wind turbine        Wind          300             400         Europe   \n",
       "2         hydro plant       hydro          200             600           Asia   \n",
       "3  geothermal station  Geothermal          600             900          china   \n",
       "4         tidal plant       Tidal          700             250         Russia   \n",
       "\n",
       "    YOC  cost per MW  \n",
       "0  2023     1.333333  \n",
       "1  2022     1.333333  \n",
       "2  2021     3.000000  \n",
       "3  2010     1.500000  \n",
       "4  2009     0.357143  "
      ]
     },
     "execution_count": 28,
     "metadata": {},
     "output_type": "execute_result"
    }
   ],
   "source": [
    "df['cost per MW']=df['Cost (million)']/df['Capacity[%]']\n",
    "df"
   ]
  },
  {
   "cell_type": "code",
   "execution_count": 29,
   "id": "cb9bceae",
   "metadata": {},
   "outputs": [
    {
     "name": "stdout",
     "output_type": "stream",
     "text": [
      "Total Cost of Projects:2350 million\n",
      "Total Capacity of Projects:1950 %\n"
     ]
    }
   ],
   "source": [
    "total_cost=df['Cost (million)'].sum()\n",
    "total_capacity=df['Capacity[%]'].sum()\n",
    "print(f'Total Cost of Projects:{total_cost} million') \n",
    "print(f'Total Capacity of Projects:{total_capacity} %') \n"
   ]
  },
  {
   "cell_type": "code",
   "execution_count": 32,
   "id": "67f209bb",
   "metadata": {},
   "outputs": [
    {
     "data": {
      "text/plain": [
       "Technology\n",
       "Geothermal    600\n",
       "Tidal         700\n",
       "Wind          300\n",
       "hydro         200\n",
       "solar         150\n",
       "Name: Capacity[%], dtype: int64"
      ]
     },
     "execution_count": 32,
     "metadata": {},
     "output_type": "execute_result"
    }
   ],
   "source": [
    "grouped_data =df.groupby('Technology')['Capacity[%]'].sum()\n",
    "grouped_data                                       "
   ]
  },
  {
   "cell_type": "code",
   "execution_count": 33,
   "id": "9639e11d",
   "metadata": {},
   "outputs": [
    {
     "data": {
      "text/plain": [
       "array([1, 2])"
      ]
     },
     "execution_count": 33,
     "metadata": {},
     "output_type": "execute_result"
    }
   ],
   "source": [
    "import numpy as np\n",
    "a=np.array([1,2])\n",
    "a"
   ]
  },
  {
   "cell_type": "code",
   "execution_count": 35,
   "id": "b81c4a50",
   "metadata": {},
   "outputs": [
    {
     "data": {
      "text/plain": [
       "1"
      ]
     },
     "execution_count": 35,
     "metadata": {},
     "output_type": "execute_result"
    }
   ],
   "source": [
    "a.ndim\n"
   ]
  },
  {
   "cell_type": "code",
   "execution_count": 39,
   "id": "1ad7a5c6",
   "metadata": {},
   "outputs": [
    {
     "data": {
      "text/plain": [
       "array([[[1, 2],\n",
       "        [3, 4]],\n",
       "\n",
       "       [[5, 6],\n",
       "        [7, 8]]])"
      ]
     },
     "execution_count": 39,
     "metadata": {},
     "output_type": "execute_result"
    }
   ],
   "source": [
    "b=np.array([[[1,2],[3,4]],[[5,6],[7,8]]])\n",
    "b"
   ]
  },
  {
   "cell_type": "code",
   "execution_count": 41,
   "id": "825f1a1c",
   "metadata": {},
   "outputs": [
    {
     "data": {
      "text/plain": [
       "array([[0.29851295, 0.63542384, 0.29793546],\n",
       "       [0.69062884, 0.95030597, 0.34317992]])"
      ]
     },
     "execution_count": 41,
     "metadata": {},
     "output_type": "execute_result"
    }
   ],
   "source": [
    "z=np.random.rand(2,3)\n",
    "z\n"
   ]
  },
  {
   "cell_type": "code",
   "execution_count": 43,
   "id": "7ac2b4c3",
   "metadata": {},
   "outputs": [
    {
     "data": {
      "text/plain": [
       "array([[0.39262775, 0.94300883, 0.15329052, 0.36768032],\n",
       "       [0.85244486, 0.23427967, 0.86711714, 0.67930412],\n",
       "       [0.7965439 , 0.6620359 , 0.94602001, 0.62374029],\n",
       "       [0.97800996, 0.87274112, 0.85598189, 0.5587162 ]])"
      ]
     },
     "execution_count": 43,
     "metadata": {},
     "output_type": "execute_result"
    }
   ],
   "source": [
    "z=np.random.rand(4,4)\n",
    "z\n"
   ]
  },
  {
   "cell_type": "code",
   "execution_count": null,
   "id": "90852810",
   "metadata": {},
   "outputs": [],
   "source": []
  }
 ],
 "metadata": {
  "kernelspec": {
   "display_name": "Python 3 (ipykernel)",
   "language": "python",
   "name": "python3"
  },
  "language_info": {
   "codemirror_mode": {
    "name": "ipython",
    "version": 3
   },
   "file_extension": ".py",
   "mimetype": "text/x-python",
   "name": "python",
   "nbconvert_exporter": "python",
   "pygments_lexer": "ipython3",
   "version": "3.9.13"
  }
 },
 "nbformat": 4,
 "nbformat_minor": 5
}
